{
  "nbformat": 4,
  "nbformat_minor": 0,
  "metadata": {
    "colab": {
      "provenance": [],
      "authorship_tag": "ABX9TyNeIsvAN1HQxFwKTLHWxX53",
      "include_colab_link": true
    },
    "kernelspec": {
      "name": "python3",
      "display_name": "Python 3"
    },
    "language_info": {
      "name": "python"
    }
  },
  "cells": [
    {
      "cell_type": "markdown",
      "metadata": {
        "id": "view-in-github",
        "colab_type": "text"
      },
      "source": [
        "<a href=\"https://colab.research.google.com/github/Deepanshu11-ai/Data-Analytics/blob/main/EDA1.ipynb\" target=\"_parent\"><img src=\"https://colab.research.google.com/assets/colab-badge.svg\" alt=\"Open In Colab\"/></a>"
      ]
    },
    {
      "cell_type": "markdown",
      "source": [
        "# Exploratory Data Analysis"
      ],
      "metadata": {
        "id": "i2No9FEm1u9W"
      }
    },
    {
      "cell_type": "code",
      "source": [
        "import numpy as np\n",
        "import pandas as pd\n",
        "import matplotlib.pyplot as plt\n",
        "import seaborn as sns\n",
        "from scipy.stats import shapiro"
      ],
      "metadata": {
        "id": "uctRz0wP16H9"
      },
      "execution_count": 1,
      "outputs": []
    },
    {
      "cell_type": "code",
      "source": [
        "import numpy as np\n",
        "import matplotlib.pyplot as plt\n",
        "from scipy.stats import shapiro\n",
        "\n",
        "x = np.random.normal(size=300)\n",
        "plt.hist(x)\n",
        "plt.show()\n"
      ],
      "metadata": {
        "colab": {
          "base_uri": "https://localhost:8080/",
          "height": 430
        },
        "id": "KA_X7YY52mTN",
        "outputId": "e6988003-ffff-4b26-b6cd-89bcec6624ce"
      },
      "execution_count": 2,
      "outputs": [
        {
          "output_type": "display_data",
          "data": {
            "text/plain": [
              "<Figure size 640x480 with 1 Axes>"
            ],
            "image/png": "[encoded data removed]"
          },
          "metadata": {}
        }
      ]
    },
    {
      "cell_type": "code",
      "source": [
        "y = np.random.uniform(size=300)\n",
        "plt.hist(y)\n",
        "plt.show()\n"
      ],
      "metadata": {
        "id": "QVb0WSCiCQMp",
        "outputId": "d5a89d29-3ca5-44db-8ece-e00e96b084e0",
        "colab": {
          "base_uri": "https://localhost:8080/",
          "height": 430
        }
      },
      "execution_count": 3,
      "outputs": [
        {
          "output_type": "display_data",
          "data": {
            "text/plain": [
              "<Figure size 640x480 with 1 Axes>"
            ],
            "image/png": "[encoded data removed]"
          },
          "metadata": {}
        }
      ]
    },
    {
      "cell_type": "code",
      "source": [
        "print(shapiro(x))\n",
        "print(shapiro(y))\n"
      ],
      "metadata": {
        "id": "F-bthVIZCSEz",
        "outputId": "c0bfcdcd-5a40-4c79-f781-0b1696800d57",
        "colab": {
          "base_uri": "https://localhost:8080/"
        }
      },
      "execution_count": 4,
      "outputs": [
        {
          "output_type": "stream",
          "name": "stdout",
          "text": [
            "ShapiroResult(statistic=np.float64(0.9965225210917267), pvalue=np.float64(0.7592954032492011))\n",
            "ShapiroResult(statistic=np.float64(0.9530635903879536), pvalue=np.float64(3.2424179582603827e-08))\n"
          ]
        }
      ]
    },
    {
      "cell_type": "code",
      "source": [
        "student_df = pd.DataFrame({\n",
        "    'StudentID': range(1, 101),\n",
        "    'Age': np.random.randint(17, 23, 100),\n",
        "    'Gender': np.random.choice(['Male', 'Female'], 100),\n",
        "    'Marks': np.random.normal(loc=70, scale=15, size=100).round(1),\n",
        "    'City': np.random.choice(['Delhi', 'Mumbai', 'Chennai', 'Kolkata'], 100),\n",
        "    'Attendance': np.random.choice([np.nan, 75, 80, 85, 90, 95], 100, p=[0.1, 0.2, 0.2, 0.2, 0.2, 0.1]),\n",
        "    'StudyHours': np.random.normal(loc=15, scale=5, size=100).round(1)\n",
        "})\n"
      ],
      "metadata": {
        "id": "0LyuqMZ5CU_f"
      },
      "execution_count": 5,
      "outputs": []
    },
    {
      "cell_type": "code",
      "source": [
        "print(student_df.head())\n",
        "print()"
      ],
      "metadata": {
        "colab": {
          "base_uri": "https://localhost:8080/"
        },
        "id": "YFZyhZgMA3At",
        "outputId": "c286ff7b-7b50-4c0f-873a-bf129420a3de"
      },
      "execution_count": 7,
      "outputs": [
        {
          "output_type": "stream",
          "name": "stdout",
          "text": [
            "   StudentID  Age  Gender  Marks     City  Attendance  StudyHours\n",
            "0          1   17    Male   48.3  Chennai        85.0        17.4\n",
            "1          2   20  Female   79.5   Mumbai        90.0        12.5\n",
            "2          3   18    Male   66.0  Kolkata        75.0        16.4\n",
            "3          4   17    Male   49.8  Chennai        95.0        23.0\n",
            "4          5   22    Male   52.0  Kolkata        85.0        18.0\n",
            "\n"
          ]
        }
      ]
    },
    {
      "cell_type": "code",
      "source": [
        "student_df.info()"
      ],
      "metadata": {
        "colab": {
          "base_uri": "https://localhost:8080/"
        },
        "id": "dCBSI2BJBLTr",
        "outputId": "d5f488ad-b622-4481-8f9e-bb9fec6504c9"
      },
      "execution_count": 8,
      "outputs": [
        {
          "output_type": "stream",
          "name": "stdout",
          "text": [
            "<class 'pandas.core.frame.DataFrame'>\n",
            "RangeIndex: 100 entries, 0 to 99\n",
            "Data columns (total 7 columns):\n",
            " #   Column      Non-Null Count  Dtype  \n",
            "---  ------      --------------  -----  \n",
            " 0   StudentID   100 non-null    int64  \n",
            " 1   Age         100 non-null    int64  \n",
            " 2   Gender      100 non-null    object \n",
            " 3   Marks       100 non-null    float64\n",
            " 4   City        100 non-null    object \n",
            " 5   Attendance  91 non-null     float64\n",
            " 6   StudyHours  100 non-null    float64\n",
            "dtypes: float64(3), int64(2), object(2)\n",
            "memory usage: 5.6+ KB\n"
          ]
        }
      ]
    },
    {
      "cell_type": "code",
      "source": [
        "print(student_df.isnull().sum())"
      ],
      "metadata": {
        "colab": {
          "base_uri": "https://localhost:8080/"
        },
        "id": "ltzCggUoBdrJ",
        "outputId": "b896afa7-54c1-4155-a3f6-10563c601a9c"
      },
      "execution_count": 10,
      "outputs": [
        {
          "output_type": "stream",
          "name": "stdout",
          "text": [
            "StudentID     0\n",
            "Age           0\n",
            "Gender        0\n",
            "Marks         0\n",
            "City          0\n",
            "Attendance    9\n",
            "StudyHours    0\n",
            "dtype: int64\n"
          ]
        }
      ]
    },
    {
      "cell_type": "code",
      "source": [],
      "metadata": {
        "id": "ZkSJKC6cB_Gw"
      },
      "execution_count": null,
      "outputs": []
    }
  ]
}